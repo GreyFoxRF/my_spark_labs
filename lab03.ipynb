{
 "cells": [
  {
   "cell_type": "code",
   "execution_count": 1,
   "metadata": {},
   "outputs": [],
   "source": [
    "import os\n",
    "import sys\n",
    "from datetime import datetime\n",
    "os.environ[\"PYSPARK_PYTHON\"]='/opt/anaconda/envs/bd9/bin/python'\n",
    "os.environ[\"SPARK_HOME\"]='/usr/hdp/current/spark2-client'\n",
    "os.environ[\"PYSPARK_SUBMIT_ARGS\"]='--num-executors 3 --executor-memory 3g --driver-memory 2g pyspark-shell'\n",
    "\n",
    "spark_home = os.environ.get('SPARK_HOME', None)\n",
    "\n",
    "sys.path.insert(0, os.path.join(spark_home, 'python'))\n",
    "sys.path.insert(0, os.path.join(spark_home, 'python/lib/py4j-0.10.7-src.zip'))\n",
    "from pyspark import SparkConf\n",
    "from pyspark.sql import SparkSession\n",
    "import pyspark.sql.functions as F\n",
    "import pyspark.sql.types as t\n",
    "from pyspark.ml.feature import HashingTF, IDF, Tokenizer\n",
    "import numpy as np\n",
    "from numpy import dot\n",
    "from numpy. linalg import norm\n",
    "conf = SparkConf()"
   ]
  },
  {
   "cell_type": "code",
   "execution_count": 2,
   "metadata": {},
   "outputs": [],
   "source": [
    "spark = SparkSession\\\n",
    "    .builder\\\n",
    "    .config(conf=conf)\\\n",
    "    .appName(\"GF_spark\")\\\n",
    "    .getOrCreate()"
   ]
  },
  {
   "cell_type": "code",
   "execution_count": 3,
   "metadata": {},
   "outputs": [
    {
     "data": {
      "text/html": [
       "\n",
       "            <div>\n",
       "                <p><b>SparkSession - in-memory</b></p>\n",
       "                \n",
       "        <div>\n",
       "            <p><b>SparkContext</b></p>\n",
       "\n",
       "            <p><a href=\"http://spark-master-5.newprolab.com:4040\">Spark UI</a></p>\n",
       "\n",
       "            <dl>\n",
       "              <dt>Version</dt>\n",
       "                <dd><code>v2.4.7</code></dd>\n",
       "              <dt>Master</dt>\n",
       "                <dd><code>yarn</code></dd>\n",
       "              <dt>AppName</dt>\n",
       "                <dd><code>GF_spark</code></dd>\n",
       "            </dl>\n",
       "        </div>\n",
       "        \n",
       "            </div>\n",
       "        "
      ],
      "text/plain": [
       "<pyspark.sql.session.SparkSession at 0x7f3f3fc2f208>"
      ]
     },
     "execution_count": 3,
     "metadata": {},
     "output_type": "execute_result"
    }
   ],
   "source": [
    "spark"
   ]
  },
  {
   "cell_type": "code",
   "execution_count": 4,
   "metadata": {},
   "outputs": [],
   "source": [
    "sc = spark.sparkContext"
   ]
  },
  {
   "cell_type": "code",
   "execution_count": 5,
   "metadata": {},
   "outputs": [
    {
     "data": {
      "text/html": [
       "\n",
       "        <div>\n",
       "            <p><b>SparkContext</b></p>\n",
       "\n",
       "            <p><a href=\"http://spark-master-5.newprolab.com:4040\">Spark UI</a></p>\n",
       "\n",
       "            <dl>\n",
       "              <dt>Version</dt>\n",
       "                <dd><code>v2.4.7</code></dd>\n",
       "              <dt>Master</dt>\n",
       "                <dd><code>yarn</code></dd>\n",
       "              <dt>AppName</dt>\n",
       "                <dd><code>GF_spark</code></dd>\n",
       "            </dl>\n",
       "        </div>\n",
       "        "
      ],
      "text/plain": [
       "<SparkContext master=yarn appName=GF_spark>"
      ]
     },
     "execution_count": 5,
     "metadata": {},
     "output_type": "execute_result"
    }
   ],
   "source": [
    "sc"
   ]
  },
  {
   "cell_type": "markdown",
   "metadata": {},
   "source": [
    "### show slaba03 files"
   ]
  },
  {
   "cell_type": "code",
   "execution_count": 6,
   "metadata": {},
   "outputs": [
    {
     "name": "stdout",
     "output_type": "stream",
     "text": [
      "Found 4 items\r\n",
      "-rw-r--r--   3 hdfs hdfs   91066524 2022-01-06 18:46 /labs/slaba03/laba03_items.csv\r\n",
      "-rw-r--r--   3 hdfs hdfs   29965581 2022-01-06 18:46 /labs/slaba03/laba03_test.csv\r\n",
      "-rw-r--r--   3 hdfs hdfs   74949368 2022-01-06 18:46 /labs/slaba03/laba03_train.csv\r\n",
      "-rw-r--r--   3 hdfs hdfs  871302535 2022-01-06 18:46 /labs/slaba03/laba03_views_programmes.csv\r\n"
     ]
    }
   ],
   "source": [
    "! hdfs dfs -ls /labs/slaba03/"
   ]
  },
  {
   "cell_type": "code",
   "execution_count": 7,
   "metadata": {},
   "outputs": [],
   "source": [
    "sc.setCheckpointDir('checkpoint/')"
   ]
  },
  {
   "cell_type": "markdown",
   "metadata": {},
   "source": [
    "### dounload data"
   ]
  },
  {
   "cell_type": "code",
   "execution_count": 8,
   "metadata": {},
   "outputs": [
    {
     "name": "stdout",
     "output_type": "stream",
     "text": [
      "+-------+-----------------+------------------+--------------------+\n",
      "|summary|          user_id|           item_id|            purchase|\n",
      "+-------+-----------------+------------------+--------------------+\n",
      "|  count|          5032624|           5032624|             5032624|\n",
      "|   mean|869680.9464782189| 66869.30485865823|0.002166662957534...|\n",
      "| stddev|60601.09821562329|35242.282055382406|0.046496977952916414|\n",
      "|    min|             1654|               326|                   0|\n",
      "|    25%|           846231|             65667|                   0|\n",
      "|    50%|           885247|             79853|                   0|\n",
      "|    75%|           908588|             93606|                   0|\n",
      "|    max|           941450|            104165|                   1|\n",
      "+-------+-----------------+------------------+--------------------+\n",
      "\n",
      "+-----------------------+\n",
      "|count(DISTINCT user_id)|\n",
      "+-----------------------+\n",
      "|                   1941|\n",
      "+-----------------------+\n",
      "\n",
      "+-----------------------+\n",
      "|count(DISTINCT item_id)|\n",
      "+-----------------------+\n",
      "|                   3704|\n",
      "+-----------------------+\n",
      "\n",
      "+-------+-------+--------+\n",
      "|user_id|item_id|purchase|\n",
      "+-------+-------+--------+\n",
      "|   1654|  74107|       0|\n",
      "|   1654|  89249|       0|\n",
      "|   1654|  99982|       0|\n",
      "|   1654|  89901|       0|\n",
      "|   1654| 100504|       0|\n",
      "+-------+-------+--------+\n",
      "only showing top 5 rows\n",
      "\n"
     ]
    }
   ],
   "source": [
    "schema = t.StructType(fields=[t.StructField(\"user_id\", t.IntegerType()),\n",
    "                            t.StructField(\"item_id\", t.IntegerType()),\n",
    "                            t.StructField(\"purchase\", t.IntegerType())])\n",
    "\n",
    "train = spark.read.csv('/labs/slaba03/laba03_train.csv', schema=schema, header=True)\n",
    "train.summary().show()\n",
    "train.agg(F.countDistinct(\"user_id\")).show()\n",
    "train.agg(F.countDistinct(\"item_id\")).show()\n",
    "train.show(5)"
   ]
  },
  {
   "cell_type": "code",
   "execution_count": 10,
   "metadata": {},
   "outputs": [
    {
     "name": "stdout",
     "output_type": "stream",
     "text": [
      "+-------+-------+--------+\n",
      "|user_id|item_id|purchase|\n",
      "+-------+-------+--------+\n",
      "|   1654|  94814|    null|\n",
      "|   1654|  93629|    null|\n",
      "|   1654|   9980|    null|\n",
      "|   1654|  95099|    null|\n",
      "|   1654|  11265|    null|\n",
      "+-------+-------+--------+\n",
      "only showing top 5 rows\n",
      "\n"
     ]
    }
   ],
   "source": [
    "schema = t.StructType(fields=[t.StructField(\"user_id\", t.IntegerType()),\n",
    "                            t.StructField(\"item_id\", t.IntegerType()),\n",
    "                            t.StructField(\"purchase\", t.IntegerType())])\n",
    "\n",
    "test = spark.read.csv('/labs/slaba03/laba03_test.csv', schema=schema, header=True)\n",
    "test.show(5)"
   ]
  },
  {
   "cell_type": "markdown",
   "metadata": {},
   "source": [
    "### import ml"
   ]
  },
  {
   "cell_type": "code",
   "execution_count": 12,
   "metadata": {},
   "outputs": [],
   "source": [
    "from pyspark.ml.recommendation import ALS\n",
    "from pyspark.ml.evaluation import BinaryClassificationEvaluator"
   ]
  },
  {
   "cell_type": "markdown",
   "metadata": {},
   "source": [
    "### evaluator, asl"
   ]
  },
  {
   "cell_type": "code",
   "execution_count": 13,
   "metadata": {},
   "outputs": [],
   "source": [
    "evaluator = BinaryClassificationEvaluator(\n",
    "    rawPredictionCol=\"prediction\",\n",
    "    labelCol=\"purchase\",\n",
    "    metricName=\"areaUnderROC\"\n",
    ")"
   ]
  },
  {
   "cell_type": "code",
   "execution_count": 14,
   "metadata": {},
   "outputs": [
    {
     "name": "stdout",
     "output_type": "stream",
     "text": [
      "CPU times: user 6.29 ms, sys: 4.19 ms, total: 10.5 ms\n",
      "Wall time: 23.5 s\n"
     ]
    }
   ],
   "source": [
    "als = ALS(maxIter=30,\n",
    "          regParam=2.2,\n",
    "          rank=6,\n",
    "          coldStartStrategy=\"nan\",\n",
    "          userCol='user_id',\n",
    "          itemCol='item_id',\n",
    "          ratingCol='purchase',\n",
    "          nonnegative=False,\n",
    "          implicitPrefs=True,\n",
    "          alpha=5.0,\n",
    "          seed=87)\n",
    "%time als_model = als.fit(train)"
   ]
  },
  {
   "cell_type": "markdown",
   "metadata": {},
   "source": [
    "### predict"
   ]
  },
  {
   "cell_type": "code",
   "execution_count": 16,
   "metadata": {},
   "outputs": [
    {
     "name": "stdout",
     "output_type": "stream",
     "text": [
      "+-------+-------+--------+-------------+\n",
      "|user_id|item_id|purchase|   prediction|\n",
      "+-------+-------+--------+-------------+\n",
      "| 793876|   8389|       0|  0.062498033|\n",
      "| 795620|   8389|       0| -0.012890842|\n",
      "| 851848|   8389|       0|-1.8043676E-4|\n",
      "| 880451|   8389|       0|   0.11716948|\n",
      "| 900203|   8389|       0|  0.037745614|\n",
      "+-------+-------+--------+-------------+\n",
      "only showing top 5 rows\n",
      "\n",
      "CPU times: user 2.53 ms, sys: 127 µs, total: 2.66 ms\n",
      "Wall time: 17.2 s\n"
     ]
    }
   ],
   "source": [
    "predict_1 = als_model.transform(train)\n",
    "%time predict_1.show(5)"
   ]
  },
  {
   "cell_type": "code",
   "execution_count": 17,
   "metadata": {},
   "outputs": [],
   "source": [
    "predict_1 = predict_1.coalesce(4).cache()"
   ]
  },
  {
   "cell_type": "code",
   "execution_count": 18,
   "metadata": {},
   "outputs": [
    {
     "name": "stdout",
     "output_type": "stream",
     "text": [
      "root\n",
      " |-- user_id: integer (nullable = true)\n",
      " |-- item_id: integer (nullable = true)\n",
      " |-- purchase: integer (nullable = true)\n",
      " |-- prediction: float (nullable = false)\n",
      "\n"
     ]
    }
   ],
   "source": [
    "predict_1.printSchema()"
   ]
  },
  {
   "cell_type": "code",
   "execution_count": 20,
   "metadata": {},
   "outputs": [],
   "source": [
    "predict_1 = predict_1.withColumn(\"prediction\", predict_1.prediction.cast(t.DoubleType()))"
   ]
  },
  {
   "cell_type": "code",
   "execution_count": 21,
   "metadata": {},
   "outputs": [
    {
     "data": {
      "text/plain": [
       "DataFrame[user_id: int, item_id: int, purchase: int, prediction: double]"
      ]
     },
     "execution_count": 21,
     "metadata": {},
     "output_type": "execute_result"
    }
   ],
   "source": [
    "predict_1.checkpoint()"
   ]
  },
  {
   "cell_type": "code",
   "execution_count": 22,
   "metadata": {},
   "outputs": [],
   "source": [
    "#rocauc_train = evaluator.evaluate(predict_train)"
   ]
  },
  {
   "cell_type": "code",
   "execution_count": 23,
   "metadata": {},
   "outputs": [
    {
     "name": "stdout",
     "output_type": "stream",
     "text": [
      "+-------+-------+--------+-------------+\n",
      "|user_id|item_id|purchase|   prediction|\n",
      "+-------+-------+--------+-------------+\n",
      "| 822709|   8389|    null| 4.146702E-28|\n",
      "| 824008|   8389|    null|-0.0016319451|\n",
      "| 890476|   8389|    null|          0.0|\n",
      "| 899993|   8389|    null| 9.4599556E-4|\n",
      "| 937345|   8389|    null|   0.03161242|\n",
      "+-------+-------+--------+-------------+\n",
      "only showing top 5 rows\n",
      "\n",
      "CPU times: user 1.9 ms, sys: 0 ns, total: 1.9 ms\n",
      "Wall time: 11.7 s\n"
     ]
    }
   ],
   "source": [
    "predict = als_model.transform(test)\n",
    "%time predict.show(5)"
   ]
  },
  {
   "cell_type": "code",
   "execution_count": 24,
   "metadata": {},
   "outputs": [
    {
     "data": {
      "text/plain": [
       "200"
      ]
     },
     "execution_count": 24,
     "metadata": {},
     "output_type": "execute_result"
    }
   ],
   "source": [
    "predict.rdd.getNumPartitions()"
   ]
  },
  {
   "cell_type": "code",
   "execution_count": 25,
   "metadata": {},
   "outputs": [],
   "source": [
    "predict = predict.coalesce(4).cache()"
   ]
  },
  {
   "cell_type": "code",
   "execution_count": 27,
   "metadata": {},
   "outputs": [
    {
     "name": "stdout",
     "output_type": "stream",
     "text": [
      "+-------+-------+-------------+\n",
      "|user_id|item_id|     purchase|\n",
      "+-------+-------+-------------+\n",
      "|   1654|    336|          0.0|\n",
      "|   1654|    678|          0.0|\n",
      "|   1654|    691|          0.0|\n",
      "|   1654|    696|  7.360736E-4|\n",
      "|   1654|    763| 0.0017997124|\n",
      "|   1654|    795|  0.007775446|\n",
      "|   1654|    861| 0.0048438795|\n",
      "|   1654|   1137| 0.0063141193|\n",
      "|   1654|   1159| -0.001759076|\n",
      "|   1654|   1428|   0.01012432|\n",
      "|   1654|   1685|  0.006617021|\n",
      "|   1654|   1686| 0.0031508922|\n",
      "|   1654|   1704|  0.011399428|\n",
      "|   1654|   2093|          0.0|\n",
      "|   1654|   2343| 0.0038297991|\n",
      "|   1654|   2451|          0.0|\n",
      "|   1654|   2469| 0.0043335725|\n",
      "|   1654|   2603|-0.0076052453|\n",
      "|   1654|   2609|          0.0|\n",
      "|   1654|   2621|   0.00132692|\n",
      "+-------+-------+-------------+\n",
      "only showing top 20 rows\n",
      "\n"
     ]
    }
   ],
   "source": [
    "finally_data = predict.select(\n",
    "    'user_id',\n",
    "    'item_id',\n",
    "    F.col('prediction').alias('purchase')\n",
    ").orderBy(['user_id', 'item_id'])\n",
    "finally_data.show(20)"
   ]
  },
  {
   "cell_type": "code",
   "execution_count": 30,
   "metadata": {},
   "outputs": [],
   "source": [
    "finally_data.coalesce(1).write.csv(\n",
    "    'lab03',\n",
    "    header=True,\n",
    "    sep=',',\n",
    "    mode='overwrite'\n",
    ")"
   ]
  },
  {
   "cell_type": "code",
   "execution_count": 31,
   "metadata": {},
   "outputs": [
    {
     "name": "stdout",
     "output_type": "stream",
     "text": [
      "Found 7 items\r\n",
      "drwxr-xr-x   - sergey.vaschuk sergey.vaschuk          0 2023-05-18 10:09 .sparkStaging\r\n",
      "drwxr-xr-x   - sergey.vaschuk sergey.vaschuk          0 2023-05-18 10:10 checkpoint\r\n",
      "drwxr-xr-x   - sergey.vaschuk sergey.vaschuk          0 2023-05-13 22:26 data.csv\r\n",
      "drwxr-xr-x   - sergey.vaschuk sergey.vaschuk          0 2023-05-18 10:14 lab03\r\n",
      "drwxr-xr-x   - sergey.vaschuk sergey.vaschuk          0 2023-05-13 21:50 lab03.csv\r\n",
      "drwxr-xr-x   - sergey.vaschuk sergey.vaschuk          0 2023-05-18 09:26 lab3\r\n",
      "drwxr-xr-x   - sergey.vaschuk sergey.vaschuk          0 2023-05-13 22:01 predictions.csv\r\n"
     ]
    }
   ],
   "source": [
    "! hdfs dfs -ls"
   ]
  },
  {
   "cell_type": "code",
   "execution_count": 32,
   "metadata": {},
   "outputs": [
    {
     "name": "stdout",
     "output_type": "stream",
     "text": [
      "/data/home/sergey.vaschuk\r\n"
     ]
    }
   ],
   "source": [
    "! pwd"
   ]
  },
  {
   "cell_type": "code",
   "execution_count": 33,
   "metadata": {},
   "outputs": [
    {
     "name": "stdout",
     "output_type": "stream",
     "text": [
      "total 98500\r\n",
      "-rw-rw-r-- 1 sergey.vaschuk sergey.vaschuk     9627 Apr 28 13:21 l1.ipynb\r\n",
      "-rw-rw-r-- 1 sergey.vaschuk sergey.vaschuk    20774 Apr 28 13:18 l2.ipynb\r\n",
      "-rw-rw-r-- 1 sergey.vaschuk sergey.vaschuk      186 Apr 28 13:22 lab01.json\r\n",
      "-rw-rw-r-- 1 sergey.vaschuk sergey.vaschuk     1000 Apr 28 13:16 lab02.json\r\n",
      "-rw-rw-r-- 1 sergey.vaschuk sergey.vaschuk 50181946 May 18 10:13 lab03-Copy1.csv\r\n",
      "-rw-rw-r-- 1 sergey.vaschuk sergey.vaschuk    19519 May 18 10:12 lab3_gf.ipynb\r\n",
      "drwxrwxr-x 7 sergey.vaschuk sergey.vaschuk     4096 May 11 13:49 sber-spark-ds-12\r\n",
      "-rw-r--r-- 1 sergey.vaschuk sergey.vaschuk        0 May 18 09:58 _SUCCESS\r\n",
      "-rw-rw-r-- 1 sergey.vaschuk sergey.vaschuk 50591023 May 14 20:09 trash.csv\r\n"
     ]
    }
   ],
   "source": [
    "! ls -l"
   ]
  },
  {
   "cell_type": "code",
   "execution_count": 34,
   "metadata": {},
   "outputs": [
    {
     "name": "stdout",
     "output_type": "stream",
     "text": [
      "copyToLocal: `/data/home/sergey.vaschuk/_SUCCESS': File exists\r\n"
     ]
    }
   ],
   "source": [
    "! hdfs dfs -copyToLocal lab03/* ~/"
   ]
  },
  {
   "cell_type": "code",
   "execution_count": null,
   "metadata": {},
   "outputs": [],
   "source": []
  },
  {
   "cell_type": "code",
   "execution_count": null,
   "metadata": {},
   "outputs": [],
   "source": []
  },
  {
   "cell_type": "code",
   "execution_count": null,
   "metadata": {},
   "outputs": [],
   "source": []
  },
  {
   "cell_type": "code",
   "execution_count": null,
   "metadata": {},
   "outputs": [],
   "source": []
  },
  {
   "cell_type": "code",
   "execution_count": null,
   "metadata": {},
   "outputs": [],
   "source": []
  },
  {
   "cell_type": "code",
   "execution_count": null,
   "metadata": {},
   "outputs": [],
   "source": []
  },
  {
   "cell_type": "code",
   "execution_count": null,
   "metadata": {},
   "outputs": [],
   "source": []
  },
  {
   "cell_type": "code",
   "execution_count": null,
   "metadata": {},
   "outputs": [],
   "source": []
  }
 ],
 "metadata": {
  "kernelspec": {
   "display_name": "Python 3",
   "language": "python",
   "name": "python3"
  },
  "language_info": {
   "codemirror_mode": {
    "name": "ipython",
    "version": 3
   },
   "file_extension": ".py",
   "mimetype": "text/x-python",
   "name": "python",
   "nbconvert_exporter": "python",
   "pygments_lexer": "ipython3",
   "version": "3.6.5"
  }
 },
 "nbformat": 4,
 "nbformat_minor": 2
}
